{
 "cells": [
  {
   "attachments": {},
   "cell_type": "markdown",
   "id": "9d054a26",
   "metadata": {
    "papermill": {
     "duration": 0.004274,
     "end_time": "2024-06-15T23:13:10.145437",
     "exception": false,
     "start_time": "2024-06-15T23:13:10.141163",
     "status": "completed"
    },
    "tags": []
   },
   "source": [
    "# Basic Streamlit App"
   ]
  },
  {
   "attachments": {},
   "cell_type": "markdown",
   "id": "13a1ab19",
   "metadata": {
    "papermill": {
     "duration": 0.002666,
     "end_time": "2024-06-15T23:13:10.151381",
     "exception": false,
     "start_time": "2024-06-15T23:13:10.148715",
     "status": "completed"
    },
    "tags": []
   },
   "source": [
    "## Load data"
   ]
  },
  {
   "cell_type": "code",
   "execution_count": 1,
   "id": "522edc2b",
   "metadata": {
    "execution": {
     "iopub.execute_input": "2024-06-15T23:13:10.155678Z",
     "iopub.status.busy": "2024-06-15T23:13:10.155337Z",
     "iopub.status.idle": "2024-06-15T23:13:10.168154Z",
     "shell.execute_reply": "2024-06-15T23:13:10.167791Z"
    },
    "papermill": {
     "duration": 0.016163,
     "end_time": "2024-06-15T23:13:10.169143",
     "exception": false,
     "start_time": "2024-06-15T23:13:10.152980",
     "status": "completed"
    },
    "tags": []
   },
   "outputs": [],
   "source": [
    "import pandas"
   ]
  },
  {
   "attachments": {},
   "cell_type": "markdown",
   "id": "d206527f",
   "metadata": {
    "papermill": {
     "duration": 0.000592,
     "end_time": "2024-06-15T23:13:10.170460",
     "exception": false,
     "start_time": "2024-06-15T23:13:10.169868",
     "status": "completed"
    },
    "tags": []
   },
   "source": [
    "## Data visualization"
   ]
  },
  {
   "cell_type": "code",
   "execution_count": 2,
   "id": "a2f9ac1a",
   "metadata": {
    "execution": {
     "iopub.execute_input": "2024-06-15T23:13:10.172278Z",
     "iopub.status.busy": "2024-06-15T23:13:10.172175Z",
     "iopub.status.idle": "2024-06-15T23:13:10.746540Z",
     "shell.execute_reply": "2024-06-15T23:13:10.746188Z"
    },
    "papermill": {
     "duration": 0.576319,
     "end_time": "2024-06-15T23:13:10.747445",
     "exception": false,
     "start_time": "2024-06-15T23:13:10.171126",
     "status": "completed"
    },
    "tags": []
   },
   "outputs": [],
   "source": [
    "df = pandas.read_csv('../data/gapminder.csv')"
   ]
  },
  {
   "cell_type": "code",
   "execution_count": 3,
   "id": "319ffb1b",
   "metadata": {},
   "outputs": [
    {
     "data": {
      "text/html": [
       "<div>\n",
       "<style scoped>\n",
       "    .dataframe tbody tr th:only-of-type {\n",
       "        vertical-align: middle;\n",
       "    }\n",
       "\n",
       "    .dataframe tbody tr th {\n",
       "        vertical-align: top;\n",
       "    }\n",
       "\n",
       "    .dataframe thead th {\n",
       "        text-align: right;\n",
       "    }\n",
       "</style>\n",
       "<table border=\"1\" class=\"dataframe\">\n",
       "  <thead>\n",
       "    <tr style=\"text-align: right;\">\n",
       "      <th></th>\n",
       "      <th>country</th>\n",
       "      <th>continent</th>\n",
       "      <th>year</th>\n",
       "      <th>lifeExp</th>\n",
       "      <th>pop</th>\n",
       "      <th>gdpPercap</th>\n",
       "      <th>iso_alpha</th>\n",
       "      <th>iso_num</th>\n",
       "    </tr>\n",
       "  </thead>\n",
       "  <tbody>\n",
       "    <tr>\n",
       "      <th>0</th>\n",
       "      <td>Afghanistan</td>\n",
       "      <td>Asia</td>\n",
       "      <td>1952</td>\n",
       "      <td>28.801</td>\n",
       "      <td>8425333</td>\n",
       "      <td>779.445314</td>\n",
       "      <td>AFG</td>\n",
       "      <td>4</td>\n",
       "    </tr>\n",
       "    <tr>\n",
       "      <th>1</th>\n",
       "      <td>Afghanistan</td>\n",
       "      <td>Asia</td>\n",
       "      <td>1957</td>\n",
       "      <td>30.332</td>\n",
       "      <td>9240934</td>\n",
       "      <td>820.853030</td>\n",
       "      <td>AFG</td>\n",
       "      <td>4</td>\n",
       "    </tr>\n",
       "    <tr>\n",
       "      <th>2</th>\n",
       "      <td>Afghanistan</td>\n",
       "      <td>Asia</td>\n",
       "      <td>1962</td>\n",
       "      <td>31.997</td>\n",
       "      <td>10267083</td>\n",
       "      <td>853.100710</td>\n",
       "      <td>AFG</td>\n",
       "      <td>4</td>\n",
       "    </tr>\n",
       "    <tr>\n",
       "      <th>3</th>\n",
       "      <td>Afghanistan</td>\n",
       "      <td>Asia</td>\n",
       "      <td>1967</td>\n",
       "      <td>34.020</td>\n",
       "      <td>11537966</td>\n",
       "      <td>836.197138</td>\n",
       "      <td>AFG</td>\n",
       "      <td>4</td>\n",
       "    </tr>\n",
       "    <tr>\n",
       "      <th>4</th>\n",
       "      <td>Afghanistan</td>\n",
       "      <td>Asia</td>\n",
       "      <td>1972</td>\n",
       "      <td>36.088</td>\n",
       "      <td>13079460</td>\n",
       "      <td>739.981106</td>\n",
       "      <td>AFG</td>\n",
       "      <td>4</td>\n",
       "    </tr>\n",
       "    <tr>\n",
       "      <th>...</th>\n",
       "      <td>...</td>\n",
       "      <td>...</td>\n",
       "      <td>...</td>\n",
       "      <td>...</td>\n",
       "      <td>...</td>\n",
       "      <td>...</td>\n",
       "      <td>...</td>\n",
       "      <td>...</td>\n",
       "    </tr>\n",
       "    <tr>\n",
       "      <th>1699</th>\n",
       "      <td>Zimbabwe</td>\n",
       "      <td>Africa</td>\n",
       "      <td>1987</td>\n",
       "      <td>62.351</td>\n",
       "      <td>9216418</td>\n",
       "      <td>706.157306</td>\n",
       "      <td>ZWE</td>\n",
       "      <td>716</td>\n",
       "    </tr>\n",
       "    <tr>\n",
       "      <th>1700</th>\n",
       "      <td>Zimbabwe</td>\n",
       "      <td>Africa</td>\n",
       "      <td>1992</td>\n",
       "      <td>60.377</td>\n",
       "      <td>10704340</td>\n",
       "      <td>693.420786</td>\n",
       "      <td>ZWE</td>\n",
       "      <td>716</td>\n",
       "    </tr>\n",
       "    <tr>\n",
       "      <th>1701</th>\n",
       "      <td>Zimbabwe</td>\n",
       "      <td>Africa</td>\n",
       "      <td>1997</td>\n",
       "      <td>46.809</td>\n",
       "      <td>11404948</td>\n",
       "      <td>792.449960</td>\n",
       "      <td>ZWE</td>\n",
       "      <td>716</td>\n",
       "    </tr>\n",
       "    <tr>\n",
       "      <th>1702</th>\n",
       "      <td>Zimbabwe</td>\n",
       "      <td>Africa</td>\n",
       "      <td>2002</td>\n",
       "      <td>39.989</td>\n",
       "      <td>11926563</td>\n",
       "      <td>672.038623</td>\n",
       "      <td>ZWE</td>\n",
       "      <td>716</td>\n",
       "    </tr>\n",
       "    <tr>\n",
       "      <th>1703</th>\n",
       "      <td>Zimbabwe</td>\n",
       "      <td>Africa</td>\n",
       "      <td>2007</td>\n",
       "      <td>43.487</td>\n",
       "      <td>12311143</td>\n",
       "      <td>469.709298</td>\n",
       "      <td>ZWE</td>\n",
       "      <td>716</td>\n",
       "    </tr>\n",
       "  </tbody>\n",
       "</table>\n",
       "<p>1704 rows × 8 columns</p>\n",
       "</div>"
      ],
      "text/plain": [
       "          country continent  year  lifeExp       pop   gdpPercap iso_alpha  \\\n",
       "0     Afghanistan      Asia  1952   28.801   8425333  779.445314       AFG   \n",
       "1     Afghanistan      Asia  1957   30.332   9240934  820.853030       AFG   \n",
       "2     Afghanistan      Asia  1962   31.997  10267083  853.100710       AFG   \n",
       "3     Afghanistan      Asia  1967   34.020  11537966  836.197138       AFG   \n",
       "4     Afghanistan      Asia  1972   36.088  13079460  739.981106       AFG   \n",
       "...           ...       ...   ...      ...       ...         ...       ...   \n",
       "1699     Zimbabwe    Africa  1987   62.351   9216418  706.157306       ZWE   \n",
       "1700     Zimbabwe    Africa  1992   60.377  10704340  693.420786       ZWE   \n",
       "1701     Zimbabwe    Africa  1997   46.809  11404948  792.449960       ZWE   \n",
       "1702     Zimbabwe    Africa  2002   39.989  11926563  672.038623       ZWE   \n",
       "1703     Zimbabwe    Africa  2007   43.487  12311143  469.709298       ZWE   \n",
       "\n",
       "      iso_num  \n",
       "0           4  \n",
       "1           4  \n",
       "2           4  \n",
       "3           4  \n",
       "4           4  \n",
       "...       ...  \n",
       "1699      716  \n",
       "1700      716  \n",
       "1701      716  \n",
       "1702      716  \n",
       "1703      716  \n",
       "\n",
       "[1704 rows x 8 columns]"
      ]
     },
     "execution_count": 3,
     "metadata": {},
     "output_type": "execute_result"
    }
   ],
   "source": [
    "df"
   ]
  },
  {
   "cell_type": "code",
   "execution_count": 11,
   "id": "cbdfdac4",
   "metadata": {},
   "outputs": [],
   "source": [
    "import plotly.express\n",
    "\n",
    "fig = plotly.express.scatter(\n",
    "    data_frame=df,\n",
    "    x='country',\n",
    "    y='year')\n",
    "                       "
   ]
  },
  {
   "cell_type": "code",
   "execution_count": 1,
   "id": "89175527",
   "metadata": {},
   "outputs": [
    {
     "ename": "NameError",
     "evalue": "name 'df' is not defined",
     "output_type": "error",
     "traceback": [
      "\u001b[0;31m---------------------------------------------------------------------------\u001b[0m",
      "\u001b[0;31mNameError\u001b[0m                                 Traceback (most recent call last)",
      "Cell \u001b[0;32mIn[1], line 4\u001b[0m\n\u001b[1;32m      1\u001b[0m \u001b[38;5;28;01mimport\u001b[39;00m \u001b[38;5;21;01mstreamlit\u001b[39;00m\n\u001b[0;32m----> 4\u001b[0m paises\u001b[38;5;241m=\u001b[39m\u001b[43mdf\u001b[49m[\u001b[38;5;124m'\u001b[39m\u001b[38;5;124mcountry\u001b[39m\u001b[38;5;124m'\u001b[39m]\u001b[38;5;241m.\u001b[39munique()\n\u001b[1;32m      5\u001b[0m get_ipython()\u001b[38;5;241m.\u001b[39mrun_line_magic(\u001b[38;5;124m'\u001b[39m\u001b[38;5;124mpinfo\u001b[39m\u001b[38;5;124m'\u001b[39m, \u001b[38;5;124m'\u001b[39m\u001b[38;5;124mstreamlit.selectbox\u001b[39m\u001b[38;5;124m'\u001b[39m)\n",
      "\u001b[0;31mNameError\u001b[0m: name 'df' is not defined"
     ]
    }
   ],
   "source": [
    "import streamlit\n",
    "\n",
    "\n",
    "paises=df['country'].unique()\n",
    "streamlit.selectbox?"
   ]
  },
  {
   "attachments": {},
   "cell_type": "markdown",
   "id": "89a049f0",
   "metadata": {
    "papermill": {
     "duration": 0.001094,
     "end_time": "2024-06-15T23:13:10.749850",
     "exception": false,
     "start_time": "2024-06-15T23:13:10.748756",
     "status": "completed"
    },
    "tags": []
   },
   "source": [
    "## Create app\n",
    "\n",
    "1. Create a file `app.py`\n",
    "2. Add the previous code"
   ]
  }
 ],
 "metadata": {
  "kernelspec": {
   "display_name": "Python 3",
   "language": "python",
   "name": "python3"
  },
  "language_info": {
   "codemirror_mode": {
    "name": "ipython",
    "version": 3
   },
   "file_extension": ".py",
   "mimetype": "text/x-python",
   "name": "python",
   "nbconvert_exporter": "python",
   "pygments_lexer": "ipython3",
   "version": "3.11.4"
  },
  "papermill": {
   "default_parameters": {},
   "duration": 1.578603,
   "end_time": "2024-06-15T23:13:10.967848",
   "environment_variables": {},
   "exception": null,
   "input_path": "/Users/sota/Library/CloudStorage/Dropbox/2 Business/1 Datons/2 Areas/Courses/2 Catalogue/10 DF/1 Materials/DF-P/notebooks/10_Dataviz/1_Backend/B_Solution.ipynb",
   "output_path": "/Users/sota/Library/CloudStorage/Dropbox/2 Business/1 Datons/2 Areas/Courses/2 Catalogue/10 DF/1 Materials/DF-P/notebooks/10_Dataviz/1_Backend/B_Solution.ipynb",
   "parameters": {},
   "start_time": "2024-06-15T23:13:09.389245",
   "version": "2.6.0"
  }
 },
 "nbformat": 4,
 "nbformat_minor": 5
}
